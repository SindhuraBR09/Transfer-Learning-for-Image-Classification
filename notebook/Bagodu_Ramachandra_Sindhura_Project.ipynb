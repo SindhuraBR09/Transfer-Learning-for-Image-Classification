{
 "cells": [
  {
   "cell_type": "markdown",
   "id": "15c313c6",
   "metadata": {
    "id": "15c313c6"
   },
   "source": [
    "<b>Name</b> : Sindhura Bagodu Ramachandra\n",
    "\n",
    "<b>USC ID</b> : 4628596426\n",
    "\n",
    "<b>Github username</b> : SindhuraBagodu"
   ]
  },
  {
   "cell_type": "code",
   "execution_count": 43,
   "id": "4878fdd2",
   "metadata": {
    "id": "4878fdd2"
   },
   "outputs": [],
   "source": [
    "import pandas as pd\n",
    "import numpy as np\n",
    "from sklearn.model_selection import train_test_split\n",
    "from matplotlib import pyplot as plt\n",
    "from sklearn import metrics\n",
    "import warnings\n",
    "import random\n",
    "import os\n",
    "import shutil\n",
    "import math\n",
    "from PIL import Image\n",
    "from sklearn.preprocessing import LabelEncoder\n",
    "import tensorflow as tf\n",
    "from keras.preprocessing.image import ImageDataGenerator\n",
    "from tensorflow.keras.applications import vgg16\n",
    "from tensorflow import keras\n",
    "from tensorflow.keras import layers\n",
    "from keras.models import Sequential \n",
    "from keras.layers import Activation, Dense, Dropout, Flatten\n",
    "from keras.applications.inception_v3 import preprocess_input"
   ]
  },
  {
   "cell_type": "markdown",
   "id": "4bfc82c2",
   "metadata": {
    "id": "4bfc82c2"
   },
   "source": [
    "##### 1. Transfer Learning for Image Classification1\n",
    "\n",
    "It is highly recommended that you complete this project using Keras2 and Python.\n",
    "\n",
    "(a) In this problem, we are trying to build a classifier that distinguishes images of 20 bird species. You are provided with text data in twenty folders.\n",
    "\n",
    "###### (b) Data Exploration and Pre-processing\n",
    "\n",
    "i. Images in each class are given in separate folders. The file Classes.xlsx provides the classes assigned to the bird species images in each folder. Therefore, you encode your classes using one-hot encoding and Classes.xlsx.\n",
    "\n",
    "ii. Randomly select d0.7ni images from each folder as your training set, [0.15ni] as validation set, and the rest as your test set, where ni is the number of images in folder i and dxe is the ceiling of x. \n"
   ]
  },
  {
   "cell_type": "code",
   "execution_count": 44,
   "id": "e3a7db04",
   "metadata": {
    "id": "e3a7db04"
   },
   "outputs": [],
   "source": [
    "try:\n",
    "    os.makedirs('./output')\n",
    "    os.makedirs('./output/train')\n",
    "    os.makedirs('./output/test')\n",
    "\n",
    "    os.listdir('./output')\n",
    "    \n",
    "except OSError as e:\n",
    "    print(e)\n"
   ]
  },
  {
   "cell_type": "code",
   "execution_count": 45,
   "id": "11956249",
   "metadata": {
    "id": "11956249"
   },
   "outputs": [],
   "source": [
    "from logging import exception\n",
    "root_dir = '../Data/images'\n",
    "classes = ['005.Crested_Auklet', '013.Bobolink', '015.Lazuli_Bunting', '023.Brandt_Cormorant', '040.Olive_sided_Flycatcher', '041.Scissor_tailed_Flycatcher', '067.Anna_Hummingbird', '072.Pomarine_Jaeger', '076.Dark_eyed_Junco', '081.Pied_Kingfisher', '082.Ringed_Kingfisher', '086.Pacific_Loon', '099.Ovenbird', '104.American_Pipit', '127.Savannah_Sparrow', '135.Bank_Swallow', '141.Artic_Tern', '149.Brown_Thrasher', '156.White_eyed_Vireo', '168.Kentucky_Warbler']\n",
    "\n",
    "for clss in classes:\n",
    "    dirtry = root_dir + '/' + clss\n",
    "    files = os.listdir(dirtry)\n",
    "    np.random.shuffle(files)\n",
    "    \n",
    "    base_outdir = './output/'\n",
    "\n",
    "    for folder in ['train', 'validation','test']:\n",
    "        target_dir = base_outdir + folder\n",
    "        try:\n",
    "            os.makedirs(target_dir + '/' + clss)\n",
    "        except OSError as e:\n",
    "            print(e)\n",
    "        target_class = target_dir + '/' + clss\n",
    "\n",
    "        if folder == 'train':\n",
    "            images_to_pass = files[: math.ceil(0.7*len(files))]\n",
    "            for img in images_to_pass:\n",
    "                img = dirtry + '/' + img\n",
    "                try:                  \n",
    "                    shutil.copy(img, target_class)\n",
    "                except OSError as e:\n",
    "                    print(e)\n",
    "\n",
    "        elif folder == 'validation':\n",
    "            images_to_pass = files[math.ceil(0.7*len(files)): math.ceil(0.85*len(files))]\n",
    "            for img in images_to_pass:\n",
    "                img = dirtry + '/' + img\n",
    "                try:\n",
    "                    shutil.copy(img, target_class)\n",
    "                except OSError as e:\n",
    "                      print(e)\n",
    "\n",
    "        else:\n",
    "            images_to_pass = files[math.ceil(0.85*len(files)):]\n",
    "            for img in images_to_pass:\n",
    "                img = dirtry + '/' + img\n",
    "                try:\n",
    "                    shutil.copy(img, target_class)\n",
    "                except OSError as e:\n",
    "                    print(e)\n",
    "\n"
   ]
  },
  {
   "cell_type": "markdown",
   "id": "5842f52b",
   "metadata": {
    "id": "5842f52b"
   },
   "source": [
    "\n",
    "iii. In order for all the images to have the same size, zero-pad or resize the images in your dataset. This can be done using various tools, including OpenCV."
   ]
  },
  {
   "cell_type": "code",
   "execution_count": 46,
   "id": "63db325a",
   "metadata": {
    "id": "63db325a"
   },
   "outputs": [],
   "source": [
    "classes = ['005.Crested_Auklet', '013.Bobolink', '015.Lazuli_Bunting', '023.Brandt_Cormorant', '040.Olive_sided_Flycatcher', '041.Scissor_tailed_Flycatcher', '067.Anna_Hummingbird', '072.Pomarine_Jaeger', '076.Dark_eyed_Junco', '081.Pied_Kingfisher', '082.Ringed_Kingfisher', '086.Pacific_Loon', '099.Ovenbird', '104.American_Pipit', '127.Savannah_Sparrow', '135.Bank_Swallow', '141.Artic_Tern', '149.Brown_Thrasher', '156.White_eyed_Vireo', '168.Kentucky_Warbler']\n",
    "def resize(path):\n",
    "    \n",
    "    for clss in classes:\n",
    "        dirtry = path + '/' + clss\n",
    "        files = os.listdir(dirtry)\n",
    "        for item in files:\n",
    "            f_img = dirtry+\"/\"+item\n",
    "            img = Image.open(f_img)\n",
    "            img = img.resize((224,224))\n",
    "            img.save(f_img)           \n",
    "\n",
    "\n",
    "resize('./output/train/')\n",
    "resize('./output/validation/')\n",
    "resize('./output/test/')"
   ]
  },
  {
   "cell_type": "markdown",
   "id": "55903bb2",
   "metadata": {
    "id": "55903bb2"
   },
   "source": [
    "##### (c) Transfer Learning\n",
    "\n",
    "i. When dealing with classification of relatively small image datasets, deep networks may not perform very well because of not having enough data to train them. In such cases, one usually uses transfer learning, which uses deep learning models that are trained on very large datasets such as ImageNet as feature extractors. The idea is that such deep networks have learned to extract meaningful features from an image using their layers, and those features can be used in learning other tasks. In order to do that, usually the last layer or the last few layers of the pre-trained network are removed, and the response of the layer before the removed layers to the images in the new dataset is used as a feature vector to train one more multiple replacement layers. The dataset in this task has only around 50-60 images per class. Given that we have 20 classes, training a deep network with such a small dataset may not yield desirable results. In this project, you will use pre-trained models EfficientNetB0 and VGG16. For both pre-trained networks, you will only train the last fully connected layer, and will freeze all layers before them (i.e. we do not change their parameters during training) and use the outputs of the penultimate layer in the original pre-trained model as the features extracted from each image.\n",
    "\n",
    "ii. To perform empirical regularization, crop, randomly zoo, rotate, flip, contrast, and translate images in your training set for image augmentation. You can use various tools to do this, including OpenCV. \n",
    "\n",
    "iii. Use ReLU activation functions in the last layer and a softmax layer, along with batch normalization 4 and a dropout rate of 20% as well as ADAM optimizer. Use multinomial cross entropy loss. You can try any batch size, but a batch size of 5 seems reasonable.\n",
    "\n",
    "iv. Train the networks (EfficientNetB0 and VGG16) for at least 50 epochs (preferably 100 epochs) and perform early stopping using the validation set. Keep the network parameters that have the lowest validation error. Plot the training and validation errors vs. epochs.\n",
    "\n",
    "v. Report Precision, Recall, and F1 score for your model. Remember that this\n",
    "is a multi-class classification problem."
   ]
  },
  {
   "cell_type": "markdown",
   "id": "9400e62c",
   "metadata": {},
   "source": [
    "#### VGG16"
   ]
  },
  {
   "cell_type": "code",
   "execution_count": 54,
   "id": "64226a61",
   "metadata": {
    "colab": {
     "base_uri": "https://localhost:8080/"
    },
    "id": "64226a61",
    "outputId": "5fe8bfc1-794a-470e-8eda-4355aa7d0587"
   },
   "outputs": [
    {
     "name": "stdout",
     "output_type": "stream",
     "text": [
      "Found 827 images belonging to 20 classes.\n",
      "Found 178 images belonging to 20 classes.\n",
      "Found 171 images belonging to 20 classes.\n"
     ]
    }
   ],
   "source": [
    "classes_label = ['005.Crested_Auklet', '013.Bobolink', '015.Lazuli_Bunting', '023.Brandt_Cormorant', '040.Olive_sided_Flycatcher', '041.Scissor_tailed_Flycatcher', '067.Anna_Hummingbird', '072.Pomarine_Jaeger', '076.Dark_eyed_Junco', '081.Pied_Kingfisher', '082.Ringed_Kingfisher', '086.Pacific_Loon', '099.Ovenbird', '104.American_Pipit', '127.Savannah_Sparrow', '135.Bank_Swallow', '141.Artic_Tern', '149.Brown_Thrasher', '156.White_eyed_Vireo', '168.Kentucky_Warbler']\n",
    "\n",
    "def random_crop(np_tensor):\n",
    "    new_height = int(np.random.uniform(0.7, 1.30) * np_tensor.shape[0])\n",
    "\n",
    "    new_width = int(np.random.uniform(0.7, 1.30) * np_tensor.shape[1])\n",
    "\n",
    "    cropped = tf.image.resize_with_crop_or_pad(np_tensor, new_height, new_width)\n",
    "\n",
    "    return tf.image.resize(cropped, np_tensor.shape[:2])\n",
    "\n",
    "train_datagen = ImageDataGenerator(rotation_range=30, horizontal_flip=True, brightness_range=[0.1, 0.7], width_shift_range=0.5, preprocessing_function= tf.keras.applications.vgg16.preprocess_input)\n",
    "train_generator = train_datagen.flow_from_directory('./output/train', target_size=(224,224), batch_size=5,classes=classes_label, class_mode='categorical', shuffle=True)\n",
    "\n",
    "valid_datagen = ImageDataGenerator(rotation_range=30, horizontal_flip=True, brightness_range=[0.1, 0.7], width_shift_range=0.5,preprocessing_function=tf.keras.applications.vgg16.preprocess_input)\n",
    "valid_generator = valid_datagen.flow_from_directory('./output/validation',target_size=(224,224),batch_size=5,classes=classes_label,class_mode='categorical',shuffle=False)\n",
    "\n",
    "test_datagen = ImageDataGenerator(preprocessing_function=tf.keras.applications.vgg16.preprocess_input)\n",
    "test_generator = test_datagen.flow_from_directory('./output/test',target_size=(224,224),batch_size=5,classes=classes_label,class_mode='categorical',shuffle=False)\n"
   ]
  },
  {
   "cell_type": "code",
   "execution_count": 50,
   "id": "HKD-_p4FaWC5",
   "metadata": {
    "id": "HKD-_p4FaWC5"
   },
   "outputs": [],
   "source": [
    "train_y=train_generator.classes\n",
    "test_y=test_generator.classes\n",
    "val_y=valid_generator.classes"
   ]
  },
  {
   "cell_type": "code",
   "execution_count": 51,
   "id": "a6d03608",
   "metadata": {
    "colab": {
     "base_uri": "https://localhost:8080/"
    },
    "id": "a6d03608",
    "outputId": "051d9b5f-d6c1-47b7-b953-6fadd1470b51"
   },
   "outputs": [
    {
     "name": "stdout",
     "output_type": "stream",
     "text": [
      "Model: \"sequential_3\"\n",
      "_________________________________________________________________\n",
      " Layer (type)                Output Shape              Param #   \n",
      "=================================================================\n",
      " block1_conv1 (Conv2D)       (None, 224, 224, 64)      1792      \n",
      "                                                                 \n",
      " block1_conv2 (Conv2D)       (None, 224, 224, 64)      36928     \n",
      "                                                                 \n",
      " block1_pool (MaxPooling2D)  (None, 112, 112, 64)      0         \n",
      "                                                                 \n",
      " block2_conv1 (Conv2D)       (None, 112, 112, 128)     73856     \n",
      "                                                                 \n",
      " block2_conv2 (Conv2D)       (None, 112, 112, 128)     147584    \n",
      "                                                                 \n",
      " block2_pool (MaxPooling2D)  (None, 56, 56, 128)       0         \n",
      "                                                                 \n",
      " block3_conv1 (Conv2D)       (None, 56, 56, 256)       295168    \n",
      "                                                                 \n",
      " block3_conv2 (Conv2D)       (None, 56, 56, 256)       590080    \n",
      "                                                                 \n",
      " block3_conv3 (Conv2D)       (None, 56, 56, 256)       590080    \n",
      "                                                                 \n",
      " block3_pool (MaxPooling2D)  (None, 28, 28, 256)       0         \n",
      "                                                                 \n",
      " block4_conv1 (Conv2D)       (None, 28, 28, 512)       1180160   \n",
      "                                                                 \n",
      " block4_conv2 (Conv2D)       (None, 28, 28, 512)       2359808   \n",
      "                                                                 \n",
      " block4_conv3 (Conv2D)       (None, 28, 28, 512)       2359808   \n",
      "                                                                 \n",
      " block4_pool (MaxPooling2D)  (None, 14, 14, 512)       0         \n",
      "                                                                 \n",
      " block5_conv1 (Conv2D)       (None, 14, 14, 512)       2359808   \n",
      "                                                                 \n",
      " block5_conv2 (Conv2D)       (None, 14, 14, 512)       2359808   \n",
      "                                                                 \n",
      " block5_conv3 (Conv2D)       (None, 14, 14, 512)       2359808   \n",
      "                                                                 \n",
      " block5_pool (MaxPooling2D)  (None, 7, 7, 512)         0         \n",
      "                                                                 \n",
      " flatten_4 (Flatten)         (None, 25088)             0         \n",
      "                                                                 \n",
      " dense_8 (Dense)             (None, 128)               3211392   \n",
      "                                                                 \n",
      " dropout_4 (Dropout)         (None, 128)               0         \n",
      "                                                                 \n",
      " batch_normalization_4 (Batc  (None, 128)              512       \n",
      " hNormalization)                                                 \n",
      "                                                                 \n",
      " dense_9 (Dense)             (None, 20)                2580      \n",
      "                                                                 \n",
      "=================================================================\n",
      "Total params: 17,929,172\n",
      "Trainable params: 3,214,228\n",
      "Non-trainable params: 14,714,944\n",
      "_________________________________________________________________\n",
      "None\n",
      "Epoch 1/100\n",
      "165/165 [==============================] - 116s 691ms/step - loss: 2.8841 - acc: 0.1644 - mean_squared_error: 0.0469 - val_loss: 2.1797 - val_acc: 0.3427 - val_mean_squared_error: 0.0405\n",
      "Epoch 2/100\n",
      "165/165 [==============================] - 153s 923ms/step - loss: 2.2663 - acc: 0.3168 - mean_squared_error: 0.0414 - val_loss: 2.1034 - val_acc: 0.4213 - val_mean_squared_error: 0.0381\n",
      "Epoch 3/100\n",
      "165/165 [==============================] - 148s 895ms/step - loss: 2.0399 - acc: 0.3652 - mean_squared_error: 0.0387 - val_loss: 1.7569 - val_acc: 0.4888 - val_mean_squared_error: 0.0334\n",
      "Epoch 4/100\n",
      "165/165 [==============================] - 146s 883ms/step - loss: 1.9406 - acc: 0.4099 - mean_squared_error: 0.0367 - val_loss: 1.6392 - val_acc: 0.4831 - val_mean_squared_error: 0.0331\n",
      "Epoch 5/100\n",
      "165/165 [==============================] - 148s 896ms/step - loss: 1.9097 - acc: 0.4148 - mean_squared_error: 0.0364 - val_loss: 1.9056 - val_acc: 0.4944 - val_mean_squared_error: 0.0340\n",
      "Epoch 6/100\n",
      "165/165 [==============================] - 153s 924ms/step - loss: 1.7392 - acc: 0.4740 - mean_squared_error: 0.0343 - val_loss: 1.5223 - val_acc: 0.5337 - val_mean_squared_error: 0.0308\n",
      "Epoch 7/100\n",
      "165/165 [==============================] - 148s 893ms/step - loss: 1.6422 - acc: 0.4873 - mean_squared_error: 0.0331 - val_loss: 1.4240 - val_acc: 0.5449 - val_mean_squared_error: 0.0280\n",
      "Epoch 8/100\n",
      "165/165 [==============================] - 149s 900ms/step - loss: 1.5823 - acc: 0.4897 - mean_squared_error: 0.0317 - val_loss: 1.4181 - val_acc: 0.5730 - val_mean_squared_error: 0.0282\n",
      "Epoch 9/100\n",
      "165/165 [==============================] - 151s 913ms/step - loss: 1.5373 - acc: 0.5308 - mean_squared_error: 0.0309 - val_loss: 1.2736 - val_acc: 0.6348 - val_mean_squared_error: 0.0252\n",
      "Epoch 10/100\n",
      "165/165 [==============================] - 149s 901ms/step - loss: 1.4780 - acc: 0.5284 - mean_squared_error: 0.0310 - val_loss: 1.4244 - val_acc: 0.6348 - val_mean_squared_error: 0.0268\n",
      "Epoch 11/100\n",
      "165/165 [==============================] - 151s 911ms/step - loss: 1.5114 - acc: 0.5441 - mean_squared_error: 0.0301 - val_loss: 1.3688 - val_acc: 0.6067 - val_mean_squared_error: 0.0274\n",
      "Epoch 12/100\n",
      "165/165 [==============================] - 152s 922ms/step - loss: 1.4347 - acc: 0.5466 - mean_squared_error: 0.0289 - val_loss: 1.3995 - val_acc: 0.5618 - val_mean_squared_error: 0.0275\n",
      "Epoch 13/100\n",
      "165/165 [==============================] - 149s 901ms/step - loss: 1.4190 - acc: 0.5852 - mean_squared_error: 0.0277 - val_loss: 1.3119 - val_acc: 0.6348 - val_mean_squared_error: 0.0251\n",
      "Epoch 14/100\n",
      "165/165 [==============================] - 148s 897ms/step - loss: 1.3640 - acc: 0.5877 - mean_squared_error: 0.0280 - val_loss: 1.3932 - val_acc: 0.5618 - val_mean_squared_error: 0.0273\n",
      "Epoch 15/100\n",
      "165/165 [==============================] - 150s 910ms/step - loss: 1.3684 - acc: 0.5804 - mean_squared_error: 0.0280 - val_loss: 1.1606 - val_acc: 0.6966 - val_mean_squared_error: 0.0227\n",
      "Epoch 16/100\n",
      "165/165 [==============================] - 149s 904ms/step - loss: 1.3143 - acc: 0.6070 - mean_squared_error: 0.0264 - val_loss: 1.4274 - val_acc: 0.5674 - val_mean_squared_error: 0.0297\n",
      "Epoch 17/100\n",
      "165/165 [==============================] - 152s 917ms/step - loss: 1.3214 - acc: 0.5913 - mean_squared_error: 0.0268 - val_loss: 1.2832 - val_acc: 0.6124 - val_mean_squared_error: 0.0267\n",
      "Epoch 18/100\n",
      "165/165 [==============================] - 151s 916ms/step - loss: 1.3056 - acc: 0.6131 - mean_squared_error: 0.0262 - val_loss: 1.1640 - val_acc: 0.6573 - val_mean_squared_error: 0.0239\n",
      "Epoch 19/100\n",
      "165/165 [==============================] - 154s 930ms/step - loss: 1.2826 - acc: 0.6058 - mean_squared_error: 0.0260 - val_loss: 1.1778 - val_acc: 0.6404 - val_mean_squared_error: 0.0239\n",
      "Epoch 20/100\n",
      "165/165 [==============================] - 149s 900ms/step - loss: 1.2752 - acc: 0.6070 - mean_squared_error: 0.0264 - val_loss: 1.0414 - val_acc: 0.6854 - val_mean_squared_error: 0.0209\n",
      "Epoch 21/100\n",
      "165/165 [==============================] - 148s 898ms/step - loss: 1.1570 - acc: 0.6360 - mean_squared_error: 0.0240 - val_loss: 1.2701 - val_acc: 0.6180 - val_mean_squared_error: 0.0251\n",
      "Epoch 22/100\n",
      "165/165 [==============================] - 151s 912ms/step - loss: 1.1444 - acc: 0.6481 - mean_squared_error: 0.0239 - val_loss: 1.0712 - val_acc: 0.6966 - val_mean_squared_error: 0.0208\n",
      "Epoch 23/100\n",
      "165/165 [==============================] - 150s 910ms/step - loss: 1.2220 - acc: 0.6324 - mean_squared_error: 0.0245 - val_loss: 1.1699 - val_acc: 0.6404 - val_mean_squared_error: 0.0242\n",
      "Epoch 24/100\n"
     ]
    },
    {
     "name": "stdout",
     "output_type": "stream",
     "text": [
      "165/165 [==============================] - 149s 900ms/step - loss: 1.1453 - acc: 0.6433 - mean_squared_error: 0.0239 - val_loss: 1.1358 - val_acc: 0.6292 - val_mean_squared_error: 0.0242\n",
      "Epoch 25/100\n",
      "165/165 [==============================] - 148s 898ms/step - loss: 1.0862 - acc: 0.6747 - mean_squared_error: 0.0223 - val_loss: 1.0818 - val_acc: 0.6573 - val_mean_squared_error: 0.0231\n",
      "Epoch 26/100\n",
      "165/165 [==============================] - 149s 903ms/step - loss: 1.2155 - acc: 0.6179 - mean_squared_error: 0.0257 - val_loss: 1.0298 - val_acc: 0.6685 - val_mean_squared_error: 0.0223\n",
      "Epoch 27/100\n",
      "165/165 [==============================] - 147s 891ms/step - loss: 0.9999 - acc: 0.7001 - mean_squared_error: 0.0207 - val_loss: 1.0959 - val_acc: 0.6798 - val_mean_squared_error: 0.0230\n",
      "Epoch 28/100\n",
      "165/165 [==============================] - 148s 893ms/step - loss: 1.1780 - acc: 0.6288 - mean_squared_error: 0.0241 - val_loss: 1.1106 - val_acc: 0.7022 - val_mean_squared_error: 0.0216\n",
      "Epoch 29/100\n",
      "165/165 [==============================] - 151s 916ms/step - loss: 1.1650 - acc: 0.6421 - mean_squared_error: 0.0243 - val_loss: 1.2646 - val_acc: 0.6236 - val_mean_squared_error: 0.0245\n",
      "Epoch 30/100\n",
      "165/165 [==============================] - 163s 988ms/step - loss: 1.2298 - acc: 0.6022 - mean_squared_error: 0.0256 - val_loss: 1.2727 - val_acc: 0.6236 - val_mean_squared_error: 0.0247\n",
      "Epoch 31/100\n",
      "165/165 [==============================] - 155s 934ms/step - loss: 1.0735 - acc: 0.6614 - mean_squared_error: 0.0226 - val_loss: 1.2360 - val_acc: 0.6685 - val_mean_squared_error: 0.0240\n",
      "Epoch 32/100\n",
      "165/165 [==============================] - 149s 901ms/step - loss: 1.0934 - acc: 0.6856 - mean_squared_error: 0.0221 - val_loss: 1.0408 - val_acc: 0.7360 - val_mean_squared_error: 0.0192\n",
      "Epoch 33/100\n",
      "165/165 [==============================] - 151s 912ms/step - loss: 1.0753 - acc: 0.7001 - mean_squared_error: 0.0210 - val_loss: 1.1369 - val_acc: 0.6573 - val_mean_squared_error: 0.0228\n",
      "Epoch 34/100\n",
      "165/165 [==============================] - 148s 897ms/step - loss: 1.1157 - acc: 0.6651 - mean_squared_error: 0.0225 - val_loss: 1.2396 - val_acc: 0.6348 - val_mean_squared_error: 0.0253\n",
      "Epoch 35/100\n",
      "165/165 [==============================] - 150s 908ms/step - loss: 1.1630 - acc: 0.6518 - mean_squared_error: 0.0236 - val_loss: 1.0903 - val_acc: 0.6854 - val_mean_squared_error: 0.0222\n",
      "Epoch 36/100\n",
      "165/165 [==============================] - 149s 902ms/step - loss: 1.0605 - acc: 0.6808 - mean_squared_error: 0.0220 - val_loss: 1.2463 - val_acc: 0.6348 - val_mean_squared_error: 0.0236\n"
     ]
    }
   ],
   "source": [
    "vgg16_model = vgg16.VGG16(pooling='avg', weights='imagenet', include_top=False, input_shape=(224, 224, 3))\n",
    "model = keras.Sequential()\n",
    "\n",
    "for layer in vgg16_model.layers[:-1]:\n",
    "    model.add(layer)    \n",
    "\n",
    "for layer in model.layers:\n",
    "    layer.trainable = False\n",
    "\n",
    "model.add(tf.keras.layers.Flatten())\n",
    "model.add(Dense(128, activation='relu'))\n",
    "model.add(Dropout(0.2))\n",
    "model.add(tf.keras.layers.BatchNormalization())\n",
    "model.add(Dense(20, activation='softmax'))\n",
    "opt = keras.optimizers.Adam(learning_rate=0.01)\n",
    "model.compile(loss='categorical_crossentropy', optimizer=opt, metrics=['acc', 'MeanSquaredError'])\n",
    "print(model.summary())\n",
    "\n",
    "number_of_epochs = 100\n",
    "vgg_early_stopping = tf.keras.callbacks.EarlyStopping(monitor='val_loss',min_delta=0, patience=10, restore_best_weights=True)\n",
    "vgg16_history = model.fit(train_generator, \n",
    "                          epochs = number_of_epochs ,\n",
    "                          steps_per_epoch= train_generator.samples/train_generator.batch_size,\n",
    "                          validation_data = valid_generator,\n",
    "                          validation_steps= valid_generator.samples/valid_generator.batch_size,\n",
    "                          callbacks=[vgg_early_stopping],\n",
    "                          verbose=1)\n"
   ]
  },
  {
   "cell_type": "code",
   "execution_count": 52,
   "id": "e444c654",
   "metadata": {},
   "outputs": [
    {
     "data": {
      "text/plain": [
       "<matplotlib.legend.Legend at 0x1fccf4f47c0>"
      ]
     },
     "execution_count": 52,
     "metadata": {},
     "output_type": "execute_result"
    },
    {
     "data": {
      "image/png": "[encoded data removed]",
      "text/plain": [
       "<Figure size 1080x360 with 2 Axes>"
      ]
     },
     "metadata": {
      "needs_background": "light"
     },
     "output_type": "display_data"
    }
   ],
   "source": [
    "fig, axs = plt.subplots(ncols=2, nrows=1, figsize=(15,5))\n",
    "\n",
    "axs[0].plot(vgg16_history.history['mean_squared_error'])\n",
    "axs[0].plot(vgg16_history.history['val_mean_squared_error'])\n",
    "axs[0].set_title('model MSE')\n",
    "axs[0].set_ylabel('MSE')\n",
    "axs[0].set_xlabel('epoch')\n",
    "axs[0].legend(['train', 'validation'], loc='upper right')\n",
    "\n",
    "axs[1].plot(vgg16_history.history['loss'])\n",
    "axs[1].plot(vgg16_history.history['val_loss'])\n",
    "axs[1].set_title('model loss')\n",
    "axs[1].set_ylabel('Loss')\n",
    "axs[1].set_xlabel('epoch')\n",
    "axs[1].legend(['train', 'validation'], loc='upper right')\n",
    "\n",
    "# plt.show()"
   ]
  },
  {
   "cell_type": "code",
   "execution_count": 55,
   "id": "J8yuzAMlIi1R",
   "metadata": {
    "colab": {
     "base_uri": "https://localhost:8080/"
    },
    "id": "J8yuzAMlIi1R",
    "outputId": "7a230b8f-3679-4619-f023-7940f4d7102b"
   },
   "outputs": [
    {
     "name": "stdout",
     "output_type": "stream",
     "text": [
      "35/35 [==============================] - 16s 447ms/step\n",
      "                               precision    recall  f1-score   support\n",
      "\n",
      "           005.Crested_Auklet       1.00      1.00      1.00         6\n",
      "                 013.Bobolink       0.89      0.89      0.89         9\n",
      "           015.Lazuli_Bunting       1.00      1.00      1.00         8\n",
      "         023.Brandt_Cormorant       0.75      0.38      0.50         8\n",
      "   040.Olive_sided_Flycatcher       0.64      0.78      0.70         9\n",
      "041.Scissor_tailed_Flycatcher       1.00      0.78      0.88         9\n",
      "         067.Anna_Hummingbird       0.80      0.89      0.84         9\n",
      "          072.Pomarine_Jaeger       0.67      0.89      0.76         9\n",
      "          076.Dark_eyed_Junco       0.71      0.56      0.63         9\n",
      "          081.Pied_Kingfisher       1.00      0.78      0.88         9\n",
      "        082.Ringed_Kingfisher       0.89      0.89      0.89         9\n",
      "             086.Pacific_Loon       0.70      0.78      0.74         9\n",
      "                 099.Ovenbird       1.00      0.89      0.94         9\n",
      "           104.American_Pipit       0.80      0.44      0.57         9\n",
      "         127.Savannah_Sparrow       0.50      0.89      0.64         9\n",
      "             135.Bank_Swallow       0.57      0.50      0.53         8\n",
      "               141.Artic_Tern       0.73      1.00      0.84         8\n",
      "           149.Brown_Thrasher       0.86      0.75      0.80         8\n",
      "         156.White_eyed_Vireo       0.71      0.56      0.63         9\n",
      "         168.Kentucky_Warbler       0.70      0.88      0.78         8\n",
      "\n",
      "                     accuracy                           0.77       171\n",
      "                    macro avg       0.80      0.78      0.77       171\n",
      "                 weighted avg       0.79      0.77      0.77       171\n",
      "\n"
     ]
    }
   ],
   "source": [
    "vgg16_preds = model.predict(test_generator)\n",
    "vgg16_pred_classes = np.argmax(vgg16_preds, axis=1)\n",
    "print(metrics.classification_report(test_y, vgg16_pred_classes, target_names=classes_label))\n"
   ]
  },
  {
   "cell_type": "markdown",
   "id": "2fb3351a",
   "metadata": {},
   "source": [
    "#### EfficientNetB0"
   ]
  },
  {
   "cell_type": "code",
   "execution_count": 56,
   "id": "1355e033",
   "metadata": {},
   "outputs": [
    {
     "name": "stdout",
     "output_type": "stream",
     "text": [
      "Found 827 images belonging to 20 classes.\n",
      "Found 178 images belonging to 20 classes.\n",
      "Found 171 images belonging to 20 classes.\n"
     ]
    }
   ],
   "source": [
    "train_datagen_eff = ImageDataGenerator(rotation_range=20, horizontal_flip=True, brightness_range=[0.1, 0.7], fill_mode='nearest', width_shift_range=0.5, preprocessing_function=tf.keras.applications.efficientnet.preprocess_input)\n",
    "train_generator_eff = train_datagen_eff.flow_from_directory('./output/train', target_size=(224,224), batch_size=5,classes=classes_label, class_mode='categorical', shuffle=True)\n",
    "\n",
    "valid_datagen_eff = ImageDataGenerator(rotation_range=20, horizontal_flip=True, brightness_range=[0.1, 0.7], fill_mode='nearest', width_shift_range=0.5,preprocessing_function=tf.keras.applications.efficientnet.preprocess_input)\n",
    "valid_generator_eff = valid_datagen_eff.flow_from_directory('./output/validation',target_size=(224,224),batch_size=5,classes=classes_label,class_mode='categorical',shuffle=False)\n",
    "\n",
    "test_datagen_eff = ImageDataGenerator(preprocessing_function=tf.keras.applications.efficientnet.preprocess_input)\n",
    "test_generator_eff = test_datagen_eff.flow_from_directory('./output/test',target_size=(224,224),batch_size=5,classes=classes_label,class_mode='categorical',shuffle=False)"
   ]
  },
  {
   "cell_type": "code",
   "execution_count": 57,
   "id": "dbf833d4",
   "metadata": {},
   "outputs": [],
   "source": [
    "train_y_eff=train_generator_eff.classes\n",
    "test_y_eff=test_generator_eff.classes\n",
    "val_y_eff=valid_generator_eff.classes"
   ]
  },
  {
   "cell_type": "code",
   "execution_count": 58,
   "id": "38083bf8",
   "metadata": {},
   "outputs": [
    {
     "name": "stdout",
     "output_type": "stream",
     "text": [
      "Epoch 1/60\n",
      "165/165 [==============================] - 45s 202ms/step - loss: 2.1226 - acc: 0.3930 - mean_squared_error: 0.0387 - val_loss: 1.3668 - val_acc: 0.6180 - val_mean_squared_error: 0.0262\n",
      "Epoch 2/60\n",
      "165/165 [==============================] - 31s 186ms/step - loss: 1.6169 - acc: 0.5236 - mean_squared_error: 0.0313 - val_loss: 1.1452 - val_acc: 0.6966 - val_mean_squared_error: 0.0218\n",
      "Epoch 3/60\n",
      "165/165 [==============================] - 31s 186ms/step - loss: 1.2689 - acc: 0.6070 - mean_squared_error: 0.0259 - val_loss: 1.4832 - val_acc: 0.6742 - val_mean_squared_error: 0.0242\n",
      "Epoch 4/60\n",
      "165/165 [==============================] - 31s 187ms/step - loss: 1.3454 - acc: 0.5998 - mean_squared_error: 0.0272 - val_loss: 1.3005 - val_acc: 0.6854 - val_mean_squared_error: 0.0237\n",
      "Epoch 5/60\n",
      "165/165 [==============================] - 32s 194ms/step - loss: 1.2913 - acc: 0.6143 - mean_squared_error: 0.0263 - val_loss: 1.3837 - val_acc: 0.7079 - val_mean_squared_error: 0.0218\n",
      "Epoch 6/60\n",
      "165/165 [==============================] - 31s 186ms/step - loss: 1.1658 - acc: 0.6505 - mean_squared_error: 0.0238 - val_loss: 1.1651 - val_acc: 0.7303 - val_mean_squared_error: 0.0209\n",
      "Epoch 7/60\n",
      "165/165 [==============================] - 31s 185ms/step - loss: 1.1534 - acc: 0.6372 - mean_squared_error: 0.0244 - val_loss: 1.4077 - val_acc: 0.7022 - val_mean_squared_error: 0.0227\n",
      "Epoch 8/60\n",
      "165/165 [==============================] - 31s 184ms/step - loss: 1.1647 - acc: 0.6336 - mean_squared_error: 0.0245 - val_loss: 0.9588 - val_acc: 0.7697 - val_mean_squared_error: 0.0166\n",
      "Epoch 9/60\n",
      "165/165 [==============================] - 32s 192ms/step - loss: 1.0839 - acc: 0.6711 - mean_squared_error: 0.0227 - val_loss: 1.3113 - val_acc: 0.7191 - val_mean_squared_error: 0.0203\n",
      "Epoch 10/60\n",
      "165/165 [==============================] - 31s 188ms/step - loss: 1.1324 - acc: 0.6663 - mean_squared_error: 0.0230 - val_loss: 1.1139 - val_acc: 0.7472 - val_mean_squared_error: 0.0185\n",
      "Epoch 11/60\n",
      "165/165 [==============================] - 32s 190ms/step - loss: 1.0267 - acc: 0.6868 - mean_squared_error: 0.0216 - val_loss: 1.2521 - val_acc: 0.7472 - val_mean_squared_error: 0.0203\n",
      "Epoch 12/60\n",
      "165/165 [==============================] - 31s 189ms/step - loss: 0.9520 - acc: 0.7050 - mean_squared_error: 0.0204 - val_loss: 0.8466 - val_acc: 0.7303 - val_mean_squared_error: 0.0179\n",
      "Epoch 13/60\n",
      "165/165 [==============================] - 31s 189ms/step - loss: 0.9199 - acc: 0.7388 - mean_squared_error: 0.0187 - val_loss: 0.8982 - val_acc: 0.7865 - val_mean_squared_error: 0.0154\n",
      "Epoch 14/60\n",
      "165/165 [==============================] - 31s 187ms/step - loss: 0.9993 - acc: 0.7074 - mean_squared_error: 0.0205 - val_loss: 0.9510 - val_acc: 0.7303 - val_mean_squared_error: 0.0190\n",
      "Epoch 15/60\n",
      "165/165 [==============================] - 38s 231ms/step - loss: 0.9868 - acc: 0.6844 - mean_squared_error: 0.0211 - val_loss: 0.9509 - val_acc: 0.7978 - val_mean_squared_error: 0.0157\n",
      "Epoch 16/60\n",
      "165/165 [==============================] - 48s 291ms/step - loss: 1.0089 - acc: 0.6965 - mean_squared_error: 0.0213 - val_loss: 0.8572 - val_acc: 0.7472 - val_mean_squared_error: 0.0176\n",
      "Epoch 17/60\n",
      "165/165 [==============================] - 55s 330ms/step - loss: 0.9230 - acc: 0.7231 - mean_squared_error: 0.0191 - val_loss: 1.2689 - val_acc: 0.7191 - val_mean_squared_error: 0.0202\n",
      "Epoch 18/60\n",
      "165/165 [==============================] - 45s 272ms/step - loss: 0.9962 - acc: 0.7037 - mean_squared_error: 0.0208 - val_loss: 1.1307 - val_acc: 0.7528 - val_mean_squared_error: 0.0172\n",
      "Epoch 19/60\n",
      "165/165 [==============================] - 40s 241ms/step - loss: 1.0101 - acc: 0.7050 - mean_squared_error: 0.0207 - val_loss: 1.0697 - val_acc: 0.7360 - val_mean_squared_error: 0.0188\n",
      "Epoch 20/60\n",
      "165/165 [==============================] - 40s 241ms/step - loss: 0.8886 - acc: 0.7279 - mean_squared_error: 0.0191 - val_loss: 0.9296 - val_acc: 0.7472 - val_mean_squared_error: 0.0180\n",
      "Epoch 21/60\n",
      "165/165 [==============================] - 39s 237ms/step - loss: 0.9448 - acc: 0.7025 - mean_squared_error: 0.0200 - val_loss: 1.0200 - val_acc: 0.7472 - val_mean_squared_error: 0.0184\n",
      "Epoch 22/60\n",
      "165/165 [==============================] - 42s 252ms/step - loss: 0.9949 - acc: 0.7134 - mean_squared_error: 0.0204 - val_loss: 1.0016 - val_acc: 0.7360 - val_mean_squared_error: 0.0195\n"
     ]
    }
   ],
   "source": [
    "base_model = tf.keras.applications.EfficientNetB0(include_top=False, weights=\"imagenet\", input_shape=(224,224,3), pooling='avg')\n",
    "for layer in base_model.layers:\n",
    "    layer.trainable = False\n",
    "last = base_model.get_layer('avg_pool').output\n",
    "eff_model = Flatten()(last)\n",
    "eff_model = Dense(256, activation='relu')(eff_model)\n",
    "eff_model = Dropout(0.2)(eff_model)\n",
    "eff_model = tf.keras.layers.BatchNormalization()(eff_model)\n",
    "eff_model = Dense(20, activation='softmax')(eff_model)\n",
    "eff_model = tf.keras.Model(base_model.input, eff_model)\n",
    "opt = keras.optimizers.Adam(learning_rate=0.01)\n",
    "eff_model.compile(loss='categorical_crossentropy', optimizer=opt, metrics=['acc', 'MeanSquaredError'])\n",
    "\n",
    "number_of_epochs = 60\n",
    "eff_early_stopping = tf.keras.callbacks.EarlyStopping(monitor='val_loss',min_delta=0, patience=10, restore_best_weights=True)\n",
    "effB0_history = eff_model.fit(train_generator_eff, \n",
    "                          epochs = number_of_epochs ,\n",
    "                          steps_per_epoch= train_generator_eff.samples/train_generator_eff.batch_size,\n",
    "                          validation_data = valid_generator_eff,\n",
    "                          validation_steps= valid_generator_eff.samples/valid_generator_eff.batch_size,\n",
    "                          callbacks=[eff_early_stopping],\n",
    "                          verbose=1)\n"
   ]
  },
  {
   "cell_type": "code",
   "execution_count": 59,
   "id": "8af578bc",
   "metadata": {},
   "outputs": [
    {
     "data": {
      "text/plain": [
       "<matplotlib.legend.Legend at 0x1fca637fc10>"
      ]
     },
     "execution_count": 59,
     "metadata": {},
     "output_type": "execute_result"
    },
    {
     "data": {
      "image/png": "[encoded data removed]",
      "text/plain": [
       "<Figure size 1080x360 with 2 Axes>"
      ]
     },
     "metadata": {
      "needs_background": "light"
     },
     "output_type": "display_data"
    }
   ],
   "source": [
    "fig, axs = plt.subplots(ncols=2, nrows=1, figsize=(15,5))\n",
    "\n",
    "axs[0].plot(effB0_history.history['mean_squared_error'])\n",
    "axs[0].plot(effB0_history.history['val_mean_squared_error'])\n",
    "axs[0].set_title('model MSE')\n",
    "axs[0].set_ylabel('MSE')\n",
    "axs[0].set_xlabel('epoch')\n",
    "axs[0].legend(['train', 'validation'], loc='upper right')\n",
    "\n",
    "axs[1].plot(effB0_history.history['loss'])\n",
    "axs[1].plot(effB0_history.history['val_loss'])\n",
    "axs[1].set_title('model loss')\n",
    "axs[1].set_ylabel('Loss')\n",
    "axs[1].set_xlabel('epoch')\n",
    "axs[1].legend(['train', 'validation'], loc='upper right')\n",
    "\n",
    "# plt.plot(effB0_history.history['mean_squared_error'])\n",
    "# plt.plot(effB0_history.history['val_mean_squared_error'])\n",
    "# plt.title('model error')\n",
    "# plt.ylabel('MSE')\n",
    "# plt.xlabel('epoch')\n",
    "# plt.legend(['train', 'val'], loc='upper left')\n",
    "# plt.show()"
   ]
  },
  {
   "cell_type": "code",
   "execution_count": 60,
   "id": "bee30763",
   "metadata": {},
   "outputs": [
    {
     "name": "stdout",
     "output_type": "stream",
     "text": [
      "35/35 [==============================] - 8s 160ms/step\n",
      "                               precision    recall  f1-score   support\n",
      "\n",
      "           005.Crested_Auklet       1.00      1.00      1.00         6\n",
      "                 013.Bobolink       1.00      0.89      0.94         9\n",
      "           015.Lazuli_Bunting       1.00      1.00      1.00         8\n",
      "         023.Brandt_Cormorant       0.78      0.88      0.82         8\n",
      "   040.Olive_sided_Flycatcher       0.60      1.00      0.75         9\n",
      "041.Scissor_tailed_Flycatcher       1.00      0.78      0.88         9\n",
      "         067.Anna_Hummingbird       1.00      0.78      0.88         9\n",
      "          072.Pomarine_Jaeger       0.88      0.78      0.82         9\n",
      "          076.Dark_eyed_Junco       1.00      0.78      0.88         9\n",
      "          081.Pied_Kingfisher       1.00      0.89      0.94         9\n",
      "        082.Ringed_Kingfisher       0.90      1.00      0.95         9\n",
      "             086.Pacific_Loon       0.80      0.89      0.84         9\n",
      "                 099.Ovenbird       0.82      1.00      0.90         9\n",
      "           104.American_Pipit       0.75      1.00      0.86         9\n",
      "         127.Savannah_Sparrow       0.88      0.78      0.82         9\n",
      "             135.Bank_Swallow       0.71      0.62      0.67         8\n",
      "               141.Artic_Tern       1.00      1.00      1.00         8\n",
      "           149.Brown_Thrasher       1.00      0.88      0.93         8\n",
      "         156.White_eyed_Vireo       1.00      0.56      0.71         9\n",
      "         168.Kentucky_Warbler       0.80      1.00      0.89         8\n",
      "\n",
      "                     accuracy                           0.87       171\n",
      "                    macro avg       0.90      0.87      0.87       171\n",
      "                 weighted avg       0.89      0.87      0.87       171\n",
      "\n"
     ]
    }
   ],
   "source": [
    "eff_preds = eff_model.predict(test_generator_eff)\n",
    "eff_pred_classes = np.argmax(eff_preds, axis=1)\n",
    "print(metrics.classification_report(test_y_eff, eff_pred_classes, target_names=classes_label))"
   ]
  },
  {
   "cell_type": "code",
   "execution_count": 61,
   "id": "6ae99aa5",
   "metadata": {},
   "outputs": [],
   "source": [
    "eff_model.save_weights(\"eff_model.h5\")\n",
    "model.save_weights(\"model_vgg16.h5\")"
   ]
  },
  {
   "cell_type": "code",
   "execution_count": 62,
   "id": "84aa850a",
   "metadata": {},
   "outputs": [
    {
     "name": "stdout",
     "output_type": "stream",
     "text": [
      "-------------- VGG16 Results --------------------\n",
      "Maximum Trainig Accuracy = 0.7001209259033203\n",
      "Maximum validation accuracy =  0.7359550595283508\n",
      "Test Accuracy =  0.77\n",
      "\n",
      "-------------- EfficientNetB0 Results --------------------\n",
      "Maximum Trainig Accuracy = 0.7388150095939636\n",
      "Maximum validation accuracy =  0.7977527976036072\n",
      "Test Accuracy =  0.87\n"
     ]
    }
   ],
   "source": [
    "training_accuracy_vgg = max(vgg16_history.history['acc'])\n",
    "valindation_accuracy_vgg = max(vgg16_history.history['val_acc'])\n",
    "test_acc_vgg = 0.77\n",
    "\n",
    "training_accuracy_eff = max(effB0_history.history['acc'])\n",
    "valindation_accuracy_eff = max(effB0_history.history['val_acc'])\n",
    "test_acc_eff = 0.87\n",
    "\n",
    "print(\"-------------- VGG16 Results --------------------\")\n",
    "print(\"Maximum Trainig Accuracy =\", training_accuracy_vgg)\n",
    "print(\"Maximum validation accuracy = \",valindation_accuracy_vgg)\n",
    "print(\"Test Accuracy = \", test_acc_vgg)\n",
    "\n",
    "print(\"\\n-------------- EfficientNetB0 Results --------------------\")\n",
    "print(\"Maximum Trainig Accuracy =\", training_accuracy_eff)\n",
    "print(\"Maximum validation accuracy = \",valindation_accuracy_eff)\n",
    "print(\"Test Accuracy = \", test_acc_eff)\n"
   ]
  },
  {
   "cell_type": "markdown",
   "id": "9afc2a66",
   "metadata": {},
   "source": [
    "##### References\n",
    "\n",
    "* https://www.kaggle.com/code/arjunrao2000/beginners-guide-efficientnet-with-keras\n",
    "* https://www.learndatasci.com/tutorials/hands-on-transfer-learning-keras/\n",
    "* https://medium.com/@mygreatlearning/everything-you-need-to-know-about-vgg16-7315defb5918\n",
    "* https://www.kaggle.com/questions-and-answers/102677"
   ]
  }
 ],
 "metadata": {
  "accelerator": "GPU",
  "colab": {
   "provenance": []
  },
  "gpuClass": "standard",
  "interpreter": {
   "hash": "b0bd47640a75636bf2879de1475f0d4849ef351f39e5c313145e8f8e67e87269"
  },
  "kernelspec": {
   "display_name": "Python 3 (ipykernel)",
   "language": "python",
   "name": "python3"
  },
  "language_info": {
   "codemirror_mode": {
    "name": "ipython",
    "version": 3
   },
   "file_extension": ".py",
   "mimetype": "text/x-python",
   "name": "python",
   "nbconvert_exporter": "python",
   "pygments_lexer": "ipython3",
   "version": "3.10.0"
  }
 },
 "nbformat": 4,
 "nbformat_minor": 5
}
